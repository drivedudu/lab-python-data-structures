{
 "cells": [
  {
   "cell_type": "markdown",
   "metadata": {
    "id": "wP9RkV86g-Tq",
    "tags": []
   },
   "source": [
    "# Lab | Data Structures"
   ]
  },
  {
   "cell_type": "markdown",
   "metadata": {
    "id": "UZwe00Hwg-Tt"
   },
   "source": [
    "## Exercise: Managing Customer Orders\n",
    "\n",
    "As part of a business venture, you are starting an online store that sells various products. To ensure smooth operations, you need to develop a program that manages customer orders and inventory.\n",
    "\n",
    "Follow the steps below to complete the exercise:\n",
    "\n",
    "1. Define a list called `products` that contains the following items: \"t-shirt\", \"mug\", \"hat\", \"book\", \"keychain\".\n",
    "\n",
    "2. Create an empty dictionary called `inventory`.\n",
    "\n",
    "3. Ask the user to input the quantity of each product available in the inventory. Use the product names from the `products` list as keys in the `inventory` dictionary and assign the respective quantities as values.\n",
    "\n",
    "4. Create an empty set called `customer_orders`.\n",
    "\n",
    "5. Ask the user to input the name of three products that a customer wants to order (from those in the products list, meaning three products out of \"t-shirt\", \"mug\", \"hat\", \"book\" or \"keychain\". Add each product name to the `customer_orders` set.\n",
    "\n",
    "6. Print the products in the `customer_orders` set.\n",
    "\n",
    "7. Calculate the following order statistics:\n",
    "   - Total Products Ordered: The total number of products in the `customer_orders` set.\n",
    "   - Percentage of Products Ordered: The percentage of products ordered compared to the total available products.\n",
    "   \n",
    "   Store these statistics in a tuple called `order_status`.\n",
    "\n",
    "8. Print the order statistics using the following format:\n",
    "   ```\n",
    "   Order Statistics:\n",
    "   Total Products Ordered: <total_products_ordered>\n",
    "   Percentage of Products Ordered: <percentage_ordered>%\n",
    "   ```\n",
    "\n",
    "\n",
    "9. Update the inventory by subtracting 1 from the quantity of each product. Modify the `inventory` dictionary accordingly.\n",
    "\n",
    "10. Print the updated inventory, displaying the quantity of each product on separate lines.\n",
    "\n",
    "Solve the exercise by implementing the steps using the Python concepts of lists, dictionaries, sets, and basic input/output operations.."
   ]
  },
  {
   "cell_type": "code",
   "execution_count": null,
   "metadata": {
    "id": "OUULEER_MzZ7"
   },
   "outputs": [],
   "source": [
    "products = [\"t-shirt\", \"mug\", \"hat\", \"book\", \"keychain\"]"
   ]
  },
  {
   "cell_type": "code",
   "execution_count": null,
   "metadata": {
    "id": "QV6hrTYmM0_I"
   },
   "outputs": [],
   "source": [
    "inventory = dict()"
   ]
  },
  {
   "cell_type": "code",
   "execution_count": null,
   "metadata": {
    "id": "vIHMxbjJM3Yb"
   },
   "outputs": [],
   "source": [
    "customer_orders = set()"
   ]
  },
  {
   "cell_type": "code",
   "execution_count": null,
   "metadata": {
    "id": "W825Ov0dM-Yl"
   },
   "outputs": [],
   "source": [
    "product_input = ', '.join(products)\n",
    "\n",
    "for stock in products:\n",
    "    stock_qtt = int(input(f\"How many {stock} is avaliable: \"))\n",
    "    inventory[stock] = stock_qtt\n",
    "    print()"
   ]
  },
  {
   "cell_type": "code",
   "execution_count": null,
   "metadata": {
    "id": "4qyIG-jSNGBi"
   },
   "outputs": [],
   "source": [
    "while len(customer_orders) < 3:\n",
    "    orders_cust = input(f\"Please, Do your order? our products: {product_input} \")\n",
    "    print()\n",
    "    if orders_cust in products:\n",
    "      customer_orders.add(orders_cust)"
   ]
  },
  {
   "cell_type": "code",
   "execution_count": null,
   "metadata": {
    "id": "_ndhDsWCNJo5"
   },
   "outputs": [],
   "source": [
    "total_perct = (len(customer_orders)/len(products) * 100)\n",
    "order_status = (len(customer_orders), total_perct)"
   ]
  },
  {
   "cell_type": "code",
   "execution_count": null,
   "metadata": {
    "id": "e8jc0Bz4hNcE"
   },
   "outputs": [],
   "source": [
    "print(\"Customer orders:\", \", \".join(customer_orders))\n",
    "print()\n",
    "print(\"Order Statistics:\")\n",
    "print(\"Total Products Ordered: \" + str(order_status[0]))\n",
    "print(f\"Percentage of Products Ordered:{order_status[1]}%\")"
   ]
  },
  {
   "cell_type": "code",
   "execution_count": null,
   "metadata": {
    "id": "2Y2SD0M-NNsH"
   },
   "outputs": [],
   "source": [
    "print()\n",
    "for update in customer_orders:\n",
    "   inventory[update] = inventory.get(update) - 1\n",
    "   print(f\"How many {update} is avaliable: {inventory.get(update)}\")"
   ]
  }
 ],
 "metadata": {
  "colab": {
   "provenance": []
  },
  "kernelspec": {
   "display_name": "Python 3 (ipykernel)",
   "language": "python",
   "name": "python3"
  },
  "language_info": {
   "codemirror_mode": {
    "name": "ipython",
    "version": 3
   },
   "file_extension": ".py",
   "mimetype": "text/x-python",
   "name": "python",
   "nbconvert_exporter": "python",
   "pygments_lexer": "ipython3",
   "version": "3.11.7"
  }
 },
 "nbformat": 4,
 "nbformat_minor": 4
}
